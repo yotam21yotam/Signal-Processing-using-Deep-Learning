{
 "cells": [
  {
   "cell_type": "code",
   "execution_count": 1,
   "metadata": {},
   "outputs": [
    {
     "name": "stderr",
     "output_type": "stream",
     "text": [
      "Using TensorFlow backend.\n",
      "C:\\Users\\yotam hermon\\Anaconda3\\envs\\py36\\lib\\site-packages\\tensorflow\\python\\framework\\dtypes.py:516: FutureWarning: Passing (type, 1) or '1type' as a synonym of type is deprecated; in a future version of numpy, it will be understood as (type, (1,)) / '(1,)type'.\n",
      "  _np_qint8 = np.dtype([(\"qint8\", np.int8, 1)])\n",
      "C:\\Users\\yotam hermon\\Anaconda3\\envs\\py36\\lib\\site-packages\\tensorflow\\python\\framework\\dtypes.py:517: FutureWarning: Passing (type, 1) or '1type' as a synonym of type is deprecated; in a future version of numpy, it will be understood as (type, (1,)) / '(1,)type'.\n",
      "  _np_quint8 = np.dtype([(\"quint8\", np.uint8, 1)])\n",
      "C:\\Users\\yotam hermon\\Anaconda3\\envs\\py36\\lib\\site-packages\\tensorflow\\python\\framework\\dtypes.py:518: FutureWarning: Passing (type, 1) or '1type' as a synonym of type is deprecated; in a future version of numpy, it will be understood as (type, (1,)) / '(1,)type'.\n",
      "  _np_qint16 = np.dtype([(\"qint16\", np.int16, 1)])\n",
      "C:\\Users\\yotam hermon\\Anaconda3\\envs\\py36\\lib\\site-packages\\tensorflow\\python\\framework\\dtypes.py:519: FutureWarning: Passing (type, 1) or '1type' as a synonym of type is deprecated; in a future version of numpy, it will be understood as (type, (1,)) / '(1,)type'.\n",
      "  _np_quint16 = np.dtype([(\"quint16\", np.uint16, 1)])\n",
      "C:\\Users\\yotam hermon\\Anaconda3\\envs\\py36\\lib\\site-packages\\tensorflow\\python\\framework\\dtypes.py:520: FutureWarning: Passing (type, 1) or '1type' as a synonym of type is deprecated; in a future version of numpy, it will be understood as (type, (1,)) / '(1,)type'.\n",
      "  _np_qint32 = np.dtype([(\"qint32\", np.int32, 1)])\n",
      "C:\\Users\\yotam hermon\\Anaconda3\\envs\\py36\\lib\\site-packages\\tensorflow\\python\\framework\\dtypes.py:525: FutureWarning: Passing (type, 1) or '1type' as a synonym of type is deprecated; in a future version of numpy, it will be understood as (type, (1,)) / '(1,)type'.\n",
      "  np_resource = np.dtype([(\"resource\", np.ubyte, 1)])\n",
      "C:\\Users\\yotam hermon\\Anaconda3\\envs\\py36\\lib\\site-packages\\tensorboard\\compat\\tensorflow_stub\\dtypes.py:541: FutureWarning: Passing (type, 1) or '1type' as a synonym of type is deprecated; in a future version of numpy, it will be understood as (type, (1,)) / '(1,)type'.\n",
      "  _np_qint8 = np.dtype([(\"qint8\", np.int8, 1)])\n",
      "C:\\Users\\yotam hermon\\Anaconda3\\envs\\py36\\lib\\site-packages\\tensorboard\\compat\\tensorflow_stub\\dtypes.py:542: FutureWarning: Passing (type, 1) or '1type' as a synonym of type is deprecated; in a future version of numpy, it will be understood as (type, (1,)) / '(1,)type'.\n",
      "  _np_quint8 = np.dtype([(\"quint8\", np.uint8, 1)])\n",
      "C:\\Users\\yotam hermon\\Anaconda3\\envs\\py36\\lib\\site-packages\\tensorboard\\compat\\tensorflow_stub\\dtypes.py:543: FutureWarning: Passing (type, 1) or '1type' as a synonym of type is deprecated; in a future version of numpy, it will be understood as (type, (1,)) / '(1,)type'.\n",
      "  _np_qint16 = np.dtype([(\"qint16\", np.int16, 1)])\n",
      "C:\\Users\\yotam hermon\\Anaconda3\\envs\\py36\\lib\\site-packages\\tensorboard\\compat\\tensorflow_stub\\dtypes.py:544: FutureWarning: Passing (type, 1) or '1type' as a synonym of type is deprecated; in a future version of numpy, it will be understood as (type, (1,)) / '(1,)type'.\n",
      "  _np_quint16 = np.dtype([(\"quint16\", np.uint16, 1)])\n",
      "C:\\Users\\yotam hermon\\Anaconda3\\envs\\py36\\lib\\site-packages\\tensorboard\\compat\\tensorflow_stub\\dtypes.py:545: FutureWarning: Passing (type, 1) or '1type' as a synonym of type is deprecated; in a future version of numpy, it will be understood as (type, (1,)) / '(1,)type'.\n",
      "  _np_qint32 = np.dtype([(\"qint32\", np.int32, 1)])\n",
      "C:\\Users\\yotam hermon\\Anaconda3\\envs\\py36\\lib\\site-packages\\tensorboard\\compat\\tensorflow_stub\\dtypes.py:550: FutureWarning: Passing (type, 1) or '1type' as a synonym of type is deprecated; in a future version of numpy, it will be understood as (type, (1,)) / '(1,)type'.\n",
      "  np_resource = np.dtype([(\"resource\", np.ubyte, 1)])\n"
     ]
    }
   ],
   "source": [
    "from __future__ import division\n",
    "import pandas as pd\n",
    "import numpy as np\n",
    "import os\n",
    "import keras\n",
    "import matplotlib.pyplot as plt\n",
    "import tensorflow as tf\n",
    "import glob\n",
    "from keras.layers import Dense,GlobalAveragePooling2D\n",
    "from keras.applications import ResNet50\n",
    "from keras.applications import MobileNet\n",
    "from keras.applications import VGG16\n",
    "from keras.preprocessing import image\n",
    "from keras.applications.resnet_v2 import preprocess_input\n",
    "from keras.applications.mobilenet import preprocess_input\n",
    "from keras.applications.vgg16 import preprocess_input\n",
    "from keras.preprocessing.image import ImageDataGenerator\n",
    "from keras.models import Model\n",
    "from keras.optimizers import Adam\n",
    "from tensorflow.keras import layers\n",
    "from tensorflow.keras import regularizers"
   ]
  },
  {
   "cell_type": "code",
   "execution_count": 2,
   "metadata": {},
   "outputs": [],
   "source": [
    "config = tf.ConfigProto()\n",
    "config.gpu_options.allow_growth = True\n",
    "sess = tf.Session(config=config)"
   ]
  },
  {
   "cell_type": "code",
   "execution_count": 3,
   "metadata": {},
   "outputs": [],
   "source": [
    "config = tf.ConfigProto( device_count = {'GPU': 1 , 'CPU': 8} ) \n",
    "sess = tf.Session(config=config) \n",
    "keras.backend.set_session(sess)"
   ]
  },
  {
   "cell_type": "code",
   "execution_count": 4,
   "metadata": {},
   "outputs": [],
   "source": [
    "def validation(model, train_datagen):\n",
    "    #model=Model(inputs=base_model.input,outputs=preds)\n",
    "    #model.compile(optimizer='Adam',loss='categorical_crossentropy',metrics=['accuracy'])\n",
    "    val_generator=train_datagen.flow_from_directory('../data/validation/', # this is where you specify the path to the main data folder\n",
    "                                                     target_size=(224,224),\n",
    "                                                     color_mode='rgb',\n",
    "                                                     batch_size=16,\n",
    "                                                     class_mode='categorical',                                                 \n",
    "                                                     shuffle=True)\n",
    "\n",
    "    step_size_val=val_generator.n//val_generator.batch_size\n",
    "    history1 = model.fit_generator(generator=val_generator,\n",
    "                       steps_per_epoch=step_size_val,\n",
    "                       epochs=5)\n",
    "    return history1"
   ]
  },
  {
   "cell_type": "code",
   "execution_count": 5,
   "metadata": {},
   "outputs": [
    {
     "name": "stdout",
     "output_type": "stream",
     "text": [
      "WARNING:tensorflow:From C:\\Users\\yotam hermon\\Anaconda3\\envs\\py36\\lib\\site-packages\\keras\\backend\\tensorflow_backend.py:4070: The name tf.nn.max_pool is deprecated. Please use tf.nn.max_pool2d instead.\n",
      "\n"
     ]
    }
   ],
   "source": [
    "base_model_vgg=VGG16(weights='imagenet',include_top=False) #imports the mobilenet model and discards the last 1000 neuron layer.\n",
    "\n",
    "x=base_model_vgg.output\n",
    "x=GlobalAveragePooling2D()(x)\n",
    "x=Dense(1024,activation='relu')(x) #we add dense layers so that the model can learn more complex functions and classify for better results.\n",
    "x=Dense(1024,activation='relu')(x) #dense layer 2\n",
    "x=Dense(512,activation='relu')(x) #dense layer 3\n",
    "preds=Dense(6,activation='softmax')(x) #final layer with softmax activation"
   ]
  },
  {
   "cell_type": "code",
   "execution_count": 6,
   "metadata": {},
   "outputs": [],
   "source": [
    "model_vgg=Model(inputs=base_model_vgg.input,outputs=preds)"
   ]
  },
  {
   "cell_type": "code",
   "execution_count": 7,
   "metadata": {},
   "outputs": [],
   "source": [
    "for layer in model_vgg.layers[:3]:\n",
    "    layer.trainable=False\n",
    "for layer in model_vgg.layers[3:]:\n",
    "    layer.trainable=True"
   ]
  },
  {
   "cell_type": "code",
   "execution_count": 8,
   "metadata": {},
   "outputs": [
    {
     "name": "stdout",
     "output_type": "stream",
     "text": [
      "Found 18000 images belonging to 6 classes.\n"
     ]
    }
   ],
   "source": [
    "train_datagen_vgg=ImageDataGenerator(preprocessing_function=preprocess_input) #included in our dependencies\n",
    "\n",
    "train_generator_vgg=train_datagen_vgg.flow_from_directory('../Data_for_TIMIT/Train/', # this is where you specify the path to the main data folder\n",
    "                                                 target_size=(224,224),\n",
    "                                                 color_mode='rgb',\n",
    "                                                 batch_size=16,\n",
    "                                                 class_mode='categorical',                                                 \n",
    "                                                 shuffle=True)"
   ]
  },
  {
   "cell_type": "code",
   "execution_count": 9,
   "metadata": {},
   "outputs": [
    {
     "name": "stdout",
     "output_type": "stream",
     "text": [
      "WARNING:tensorflow:From C:\\Users\\yotam hermon\\Anaconda3\\envs\\py36\\lib\\site-packages\\keras\\backend\\tensorflow_backend.py:422: The name tf.global_variables is deprecated. Please use tf.compat.v1.global_variables instead.\n",
      "\n",
      "Epoch 1/5\n",
      "1125/1125 [==============================] - 213s 189ms/step - loss: 3.2420 - accuracy: 0.1637: 5:38 - loss: 56.0980 - accuracy: 0 - ETA: 5:17 - loss: 48.3696 - accuracy: - ETA: 4:56 - loss: 40.6216 - acc - ETA: 4:30 - loss: 31.4462 - accuracy:  - ETA: 4:21 - loss: 28.5294 - a - ETA: 4:05 - loss: 23.2538 - ac - ETA: 3:53 - loss: 19.9152 - accuracy: - ETA: 3:49 - loss: 18.6072 - ac - ETA: 3:41 - loss: 16.4867 - ac - ETA: 3:34 - loss: 14.8410 - accurac - ETA: 3:30 - loss: 13.9646 - accurac - ETA: 3:03 - loss: 9.2745 -  - ETA: 3:00 - loss: 9.0096 - accu - ETA: 2:59 - los - ETA - ETA - ETA:  - ETA: 2:41 - loss: 7.1402 -  - ETA: 2:39 - l - ETA: 2:36 - - ETA: 2:33 - ETA: 2:19 - loss: 5.7999 - accuracy:  - ETA: 2:19 - loss: 5.7705 - accuracy: 0.16 - ETA: 2:18 - loss: 5.7609 - accura - ETA: 2:17 - loss: 5.7132 - ac - ETA: 2:11 - loss: 5.4495 - accu - ETA: 2:01 - ETA: 1:57 - loss: - ETA: 1:55 - - ETA: 1:51 - loss: 4.7906 - ac - ETA: 1:50 - loss: 4 - ETA: 1:48 - - ETA: 1:45 - ETA: 1:41 - loss: 4.5289 - accu - ETA: 1:22 - loss: 4.1425 - accuracy - ETA: 1:21 - los - ETA: 1:18 - loss: 4.0830 - accuracy: 0.16 - ETA: 1:18 - loss: 4.0798 - accuracy:  - ETA: 1:18 - loss: 4.0702 - ac - ETA: 1:16 - loss: 4.0482 - accuracy:  - ETA: 1:16 - loss: 4.0388 - accuracy:  - ETA: 1:15 - loss: 4.0 - ETA: 1:13 - loss: 3.9963 - accuracy:  - ETA: 1:12 - loss: 3.9875 -  - ETA: 1:11 - loss: - ETA: 1:08 - loss: 3.9271 - accuracy: 0.16 - ETA: 1:08 - ETA: 1:05 - loss: 3.878 - ETA: 1:03 - loss: 3.8517 - accuracy - ETA: 1:02 - loss:  - ETA: 51s - loss: 3.7066 - accur - ETA: 49s - loss: 3.6822 - accuracy - ETA: 48s - loss: 3.6649 - accuracy: 0.16 - ETA: 47s - loss: 3.6606 - accur - ETA: 45s - loss: 3.6373 - accuracy:  - ETA: 44s - loss: 3.6249 - accuracy:  - ETA: 43s - loss: 3.6126 - accura - ETA: 41s - loss: 3.5925 - accu - ETA: 39s - loss: 3.5690 - - ETA: 36s - loss: 3.5366 - accuracy: 0.1 - ETA: 35s - loss: 3.5311 - a\n",
      "Epoch 2/5\n",
      "1125/1125 [==============================] - 210s 186ms/step - loss: 1.7920 - accuracy: 0.16813:29 - loss: 1.7942 - accuracy - ETA: 3:28 - loss: 1.7919 - accuracy - ETA:  - ETA: 3:24 - loss: 1.7907  - ETA: 3:22 - l - ETA: 3:19 - loss: 1.7896 - accuracy - ETA: 3:18 - - ETA: 3:11 - loss: 1 - ETA: 3:09 - loss: 1.7 - ETA: 2:58 - loss: 1.7916 -  - ETA: 2:57 - ETA: 2:54 - loss: 1.7914  - ETA: 2:52 - loss: 1.7914 - accu - ETA: 2:51 - loss: 1.7912  - ETA: 2:49 - loss: - ETA: 2:47 - loss: 1.7915 - accuracy:  - ETA: 2:46 - loss: 1.7915 - ac - ETA: 2:45 - loss: 1.7915 - accura - ETA: 2:44 - ETA: 2:32 - loss: 1.7918 - ac - ETA: 2:31 - loss: 1.7918 - ac - ETA: 2:30 - loss: 1.7918 - accu - ETA: 2:29 - ETA: 2:25 - - ETA: 2:22 - ETA: 2:19 - loss: 1.7919 - ac - ETA: 2:18 - loss: 1.7919 - accuracy: 0.17 - ETA: 2:18 - loss: 1 - ETA: 2:03 - loss: 1 - ETA: 1:56 - loss: 1.7920  - ETA: 1:55 - loss: 1.7920 - accuracy: 0. - ETA: 1:54 - loss: 1.7920 - accuracy - ETA: 1:49 - loss: 1.7920 - ac - ETA: 1:48 - loss: 1.7919 - accuracy: 0.16 - ETA: 1:48 - loss: - ETA: 1:45 - loss: 1.7920  - ETA: 1:44 - loss: 1.7920 - accura - ETA: 1:43 - loss: 1.7920 -  - ETA: 1: - ETA: 1:38 - loss: 1.7920 - accuracy: 0. - ETA: 1:37 - loss: 1.7920 - accuracy - ETA: 1:37 - loss: - ETA: 1:34 - loss: 1.7920 - accuracy:  - ETA: 1:34 - loss: 1.7920 - accuracy:  - ETA: 1:33 - l - ETA: 1:26 - l - ETA: 1:23 - loss: 1.7 - ETA: 1:17 - loss: 1.7919 - accuracy:  - ETA: 1:16 - loss: 1.791 - ETA: 1:14 - loss: 1.7919 - accuracy - ETA: 1:14 - loss: - ETA: 1:11 - loss: 1.7919 - accuracy - ETA: 1:11 - loss: 1.7919 - accuracy: 0. - ETA: 1:10 - loss: 1.7919 - accuracy: 0.17 - ETA: 1:10 - - ETA: 1:03 - l - ETA: 1:00 - loss: 1.7920 - ac - ETA: 58s - loss: 1.7920 - acc - ETA: 55s - loss: 1.7920 - ac - ETA: 53s - loss: 1.7920 - accurac - ETA: 51s - loss: 1.7920  - ETA: 48s - loss: 1.7920 - accuracy - ETA: 46s - loss: 1.7920 - accur - ETA: 44s - loss: 1.7920 - accuracy: 0.169 - ETA: 44s - loss: 1.7920 - - ETA: 41s - loss: 1.7919 - accur - ETA: 39s - loss: 1.7920 - accuracy: 0. - ETA: 38s - loss: 1.7919 - accuracy: 0.1 - ETA: 38s - loss: 1.7919 - accur - ETA: - ETA: 20s - loss: 1.792 - ETA: 16s - loss: 1.7920 - accuracy:  - ETA: 15s - loss: 1.7920 - accur - ETA: 13s - loss: 1.7920 - accuracy: 0.1 - ETA: 13s - loss: 1.7920 - accuracy: 0.169 - ETA: 12s - ETA: 8s - loss: 1.7920 -  - ETA: 6s - loss: 1.7920 - accuracy: 0.16 - ETA: 6s - loss: 1.7920 - ac - ETA: 5s - loss: 1.7920 - accuracy:  - ETA: 4s - loss: 1.7920 - accuracy: 0. - ETA: 4s - l - ETA: 1s - loss: 1.7920 - \n",
      "Epoch 3/5\n",
      "1125/1125 [==============================] - 210s 186ms/step - loss: 1.7921 - accuracy: 0.15933:28 - loss: 1.7923 - accuracy:  - ETA: 3:28 - loss: 1.7915  - ETA: 3:13 - loss: 1.7916 - ac - ETA: 3:12 - loss: 1.7 - ETA: 3:10 - loss: 1.7917 - accu - ETA: 3:09 - l - ETA: 3:06 - loss: 1.7922 - ac - ETA: 3:00 - loss: 1.7922 - accuracy - ETA: 2:55 - loss: 1.7923 - accuracy - ETA: 2:54 - loss: 1.7923 - accuracy:  - ETA: 2: - ETA: 2:51 - loss: 1.7923 - accuracy - ETA: 2:50 - loss: 1.7923 - accura - ETA: 2:49 - loss: 1.7923 - accuracy:  - ETA: 2:48 - loss: 1.7922 -  - ETA: 2:47 - loss: 1.7922 - ac - ETA: 2:37 - loss: 1.7920 -  - ETA: 2:36 - loss: 1.7920 -  - ETA: 2:34 - loss: 1.7920 - accuracy - ETA: 2:33 - loss: 1.7920 - accuracy: 0. - ETA: 2:33 - loss: 1.7920 -  - ETA: 2:31 - - ETA: 2:28 - loss: 1.7920 - accuracy:  - ETA: 2:28 - loss: 1.7920 - accuracy:  - ETA: 2:27 - loss: 1.7920 - accuracy: 0. - ETA: 2:27 - loss: - ETA: 2:25 - loss: 1.7919 - accu - ETA: 2:23 - loss: 1.7919 - accuracy: 0. - ETA: 2:23 - loss: 1.7919 - accuracy:  - ETA: 2:22 - loss: 1.7919 -  - ETA: 2:21 - loss: 1.7919  - ETA: 2:19 - loss: 1.7920 - accuracy: 0.15 - ETA: 2:19 - l - ETA: 2:16 - loss: 1.7919 - accuracy: 0. - ETA: 2:16 - loss: 1.791 - ETA: 2:14 - loss: 1.7921 - ac - ETA: 2:13 - loss: 1.7921 -  - - ETA: 2:07 - loss: 1.7921 - accuracy - ETA: 2:06 - loss: 1.792 - ETA: 2:05 - los - ETA: 2:02 - loss: 1.7921 - accuracy:  - ETA - ETA: 1:58 - loss: 1.7921 - accu - ETA: 1:57 - loss: 1.7921 - accu - ETA: 1:55 - loss: 1.7921 - accuracy: 0.15 - E - ETA: 1:51 - l - ETA: 1:49 - loss: 1.7921  - ETA: 1:43 - loss: 1.7922 - accura - ETA: 1:42 - - ETA: 1:34 - - ETA: 1:31 - ETA: 1:28 - loss: 1.7921 -  - ETA: 1:27 - loss: 1.7921  - ETA: 1:25 - loss: 1.7921 - accuracy: 0. - ETA: 1:25 - loss: 1.7 - ETA: 1:23 - loss: - ETA: 1:20 - loss: 1 - ETA: 1:18 - loss: 1.7922 - accu - ETA: 1: - ETA: 1:13 - loss: 1.7922 - accuracy: 0.15 - ETA: 1:13 - loss: 1.7922 -  - ETA: 1:12 - los - ETA: 1:05 - loss: 1.7921 - ac - ETA: 1:04 - loss: 1.7921 - accuracy: 0.15 - - ETA: 59s - loss: 1.7920 - accuracy:  - ETA: 58s - loss: 1.7921 - accur - ETA: 56s - loss: 1.7921 - - ETA: - ETA: 46s - loss: 1.79 - ETA: 42s - loss:  - ETA: 37s - loss: 1.7921 - accuracy: 0. - ETA: 36s - loss: 1.7921 - accuracy: - ETA: 35s - loss: 1.7921 - accuracy: 0. - ETA: 34s - loss: 1.7921 - accuracy: 0 - ETA: 33s - loss: 1.7921 - accuracy: 0 - ETA: 32s - loss: 1.7921 - ETA: 29s - loss: 1.7921 - accuracy: 0 - ETA: 28s - loss: 1.7921 - accuracy: 0. - ETA: 2 - ETA: 21s - loss: 1.7921 - accurac - ETA: 19s - loss: 1.792 - ETA: 15s - loss: 1.7921 - accuracy: - ETA: 14s - loss: 1.7921 - accuracy:  - ETA: 13s - loss: 1.7921 - accuracy:  - ETA: 12s - loss: 1.7921 - accuracy: 0.1 - ETA: 11s -  - ETA - ETA: 4s - loss: 1.7921 - accu - ETA: 3s\n",
      "Epoch 4/5\n"
     ]
    },
    {
     "name": "stdout",
     "output_type": "stream",
     "text": [
      "1125/1125 [==============================] - 210s 186ms/step - loss: 1.7920 - accuracy: 0.16663:29 - loss: 1.7 - ETA: 3:27 - l - ETA: 3:24 - loss: 1.7917 - accuracy: 0.17 - ETA: 3:24 - loss: 1.7917 - accu - ETA: 3:22 - loss: 1.7 - ETA: 3:07 - loss: 1.791 - ETA - ETA: 2:40 - loss: 1 - ETA: 2:21 - loss: 1.791 - ETA: 2:11 - loss: 1.7918 - accuracy:  - ETA: 2:10 - loss: 1.7 - ETA:  - E - ETA: 2:01 - loss: 1.7920 - accuracy:  - ETA: 2:00 - loss: - ETA: 1:58 - loss: 1.7920 - accuracy - E - ETA: 1:49 - loss: 1.7920 - accu - ETA: 1:47 - loss: 1.7 - ETA: 1:41 - loss: 1.7921 - accuracy: 0.16 - ETA: 1:41 - loss: 1.7921 - accuracy: 0. - ETA: 1:41 - loss: 1.792 - ETA: 1:39 - loss: 1.7 - ETA: 1:37 - loss: 1.7920 - ac - ETA: 1:35 - ETA: 1:32 - loss: 1.7920 - accura - ETA: 1:31 - loss: 1.7920 - accuracy - ETA: 1:30 - loss: 1.7920 - ac - ETA: 1:29 - loss: 1.7920 - accu - ETA: 1:28 - loss: 1.7920 - accuracy - ETA: 1:27 - loss: 1.7920 -  - ETA: 1:26 - loss: 1.7920 - accuracy:  - ETA: 1:25 - loss: 1.7920 - accuracy: 0. - ETA: 1:25 - ETA: 1:22 - loss: 1.7920 - accuracy:  - ETA: 1:21 - l - ETA: 1:18 - loss: 1.7920 - accuracy: 0. - ETA: 1:18 - loss: 1.7 - ETA: 1:16 - los - ETA - ETA: 1:05 - loss: 1.792 - ETA: 1:03 - - ETA: 1:00 - loss: 1. -  - ETA: 49s - loss: 1.7920 - - ETA: 46s - loss: 1.7920 - - ETA: 43s - loss: 1.7920 - accuracy:  - ETA: 42s - loss: 1.7920 - accuracy: 0 - ETA: 41s - loss: 1.7920 - accuracy: 0 - ETA: 40s - loss: 1.7920 - accur - ETA: 38s - loss: 1.7920 - accuracy:  - ETA:  - ETA: 30s - loss: 1.7920 - accur - ETA: 28s - loss: 1.7920 - accuracy: - ET - ETA: 19s - loss: 1.7920 - accuracy: - ETA: 18s - loss: 1.7920 - accuracy: 0.1 - ETA: 17s - loss: 1.7920 - accuracy - ETA: 16s - loss: 1.79 - ETA: 12s - loss: 1.7920 - accurac - ETA: 10s - loss: 1.7920 - ac - ETA: 8s - loss: 1.792 - ETA: 7s - loss: 1 - ETA: 4s - loss: 1.7920 - accuracy: 0.16 - ETA: 4s - loss: 1.7920 - ac - ETA: 3s - loss: 1.7920 -  - ETA: 1s - loss: 1.792\n",
      "Epoch 5/5\n",
      "1125/1125 [==============================] - 210s 187ms/step - loss: 1.7920 - accuracy: 0.16523:27 - loss: 1.7916 - accuracy: 0. - ETA: 3:27 - ETA: 3:19 - loss: 1 - ETA: 3:17 - loss: 1.7911 - accuracy: 0.19 - ETA: 3:17 - loss: 1.7912 -  - E - E - ETA: 2:59 - loss: 1.7919 - accuracy - ETA:  - ETA: 2:33 - loss: 1.7920 - accuracy - ETA: 2:32 - loss: 1.7920 - accu - ETA: 2:27 - loss: 1.7919 - accuracy: 0. - ETA: 2:26 - loss: 1.7920 - accuracy:  - ETA: 2:26 - loss: 1.7920 - accuracy:  - ETA: 2:25 - loss: 1.7920 - accura - - ETA: 2:20 - loss: 1.7919 -  - ETA: 2:19 - loss: 1.7919 - accuracy: 0. - ETA: 2:18 - loss: 1.791 - ETA: 2:17 - loss: - ETA: 2:14 - loss: - ETA: 2:12 - - ETA: 2:09 - l - ETA: 2:02 - loss: 1.7920 - accuracy:  - ETA: 2:01 - loss: 1.792 - ETA: 1:55 - loss: 1.7921 - accuracy: 0.16 - ETA: 1:55 - ETA: 1:52 - loss: 1.7920 -  - ETA: 1:50 - los - ETA: 1:47 - loss: 1.7920 - accu - ETA: 1:46 - loss: 1.7920 - accu - ETA: 1:45 - ETA: 1:42 - loss: 1 - ETA:  - ETA: 1:32 - loss: 1.7921  - ETA: 1:30 - loss: - ETA: 1:28 - loss: 1.7 - ETA: 1:26 - loss: 1.7921 - ac - ETA: 1:25 - loss: 1.7921 - accu - ETA: 1:23 - - ETA: 1:20 - loss: 1.7920 -  - ETA: 1:19 - loss: 1.7920 - accuracy - ETA: 1:18 - loss: 1.7920 - accura - E - ETA: 1:05 - loss: 1.7921 - accu - ETA: 1:04 - loss: 1.7 - ETA: 1:02 - loss: 1.792 - ETA: 1:00 - loss: 1.7920 - accuracy: 0.16 - ETA: 1:00 - loss: 1.7920 - accuracy: 0 - ETA: 59s - loss: 1.7920 - ac - ETA: 56s - loss: 1.7920 - accuracy:  - ETA: 55s - loss: 1.7920 - accuracy: 0.1 - ETA: 55s - loss: 1.7920 - accuracy: 0.1 - ETA: 54s - loss: 1.7920 - accu - ETA: 52s - loss: 1.7920 - accuracy - ETA: 50s - loss: 1.7920 - acc - ETA: 48s - loss: 1.7920 - accuracy: 0. - ETA: 47s - loss: 1.7920 -  - ETA: 44s - lo - ETA: 39s - loss: 1.7920 - accur - ETA: 37s - loss: 1.7920 - accurac - ETA: 27s -  - ETA: 12s - loss: 1.7920 - accuracy: 0.16 - ETA: 12s - loss: 1.7920 - accurac - ETA: 10s - loss: 1.7920 - accuracy: 0.166 - ETA: 10s - loss: 1.7920 - ac - ETA: 8s - loss: 1.7920 - accura - E - ETA: 4s - loss: 1.7921 - accuracy: 0. -\n"
     ]
    }
   ],
   "source": [
    "model_vgg.compile(optimizer='Adam',loss='categorical_crossentropy',metrics=['accuracy'])\n",
    "# Adam optimizer\n",
    "# loss function will be categorical cross entropy\n",
    "# evaluation metric will be accuracy\n",
    "\n",
    "step_size_train_vgg=train_generator_vgg.n//train_generator_vgg.batch_size\n",
    "history_vgg = model_vgg.fit_generator(generator=train_generator_vgg,\n",
    "                   steps_per_epoch=step_size_train_vgg,\n",
    "                   epochs=5)"
   ]
  },
  {
   "cell_type": "code",
   "execution_count": 10,
   "metadata": {},
   "outputs": [
    {
     "name": "stdout",
     "output_type": "stream",
     "text": [
      "Found 2970 images belonging to 2 classes.\n"
     ]
    }
   ],
   "source": [
    "x=base_model_vgg.output\n",
    "x=GlobalAveragePooling2D()(x)\n",
    "x=Dense(1024,activation='relu',activity_regularizer=regularizers.l2(1e-5))(x) #we add dense layers so that the model can learn more complex functions and classify for better results.\n",
    "x=Dense(1024,activation='relu',activity_regularizer=regularizers.l2(1e-5))(x) #dense layer 2\n",
    "x=Dense(512,activation='relu',activity_regularizer=regularizers.l2(1e-5))(x) #dense layer 3\n",
    "preds=Dense(2,activation='softmax',activity_regularizer=regularizers.l2(1e-5))(x) #final layer with softmax activation\n",
    "\n",
    "model_vgg_tiktalk=Model(inputs=model_vgg.input,outputs=preds)\n",
    "\n",
    "for layer in model_vgg.layers[:3]:\n",
    "    layer.trainable=False\n",
    "for layer in model_vgg.layers[3:]:\n",
    "    layer.trainable=True\n",
    "    \n",
    "train_datagen_vgg_tiktalk=ImageDataGenerator(preprocessing_function=preprocess_input) #included in our dependencies\n",
    "\n",
    "train_generator_vgg_tiktalk=train_datagen_vgg_tiktalk.flow_from_directory('../data/train/classification/', # this is where you specify the path to the main data folder\n",
    "                                                                         target_size=(224,224),\n",
    "                                                                         color_mode='rgb',\n",
    "                                                                         batch_size=16,\n",
    "                                                                         class_mode='categorical',                                                 \n",
    "                                                                         shuffle=True)"
   ]
  },
  {
   "cell_type": "code",
   "execution_count": 11,
   "metadata": {},
   "outputs": [
    {
     "name": "stdout",
     "output_type": "stream",
     "text": [
      "Epoch 1/5\n",
      "185/185 [==============================] - 37s 198ms/step - loss: 0.6387 - accuracy: 0.8348ETA: 1:09 - loss: 0.6928 - accuracy: 0.468 - ETA: 44s - loss: 0.6917 - a - ETA: 33s - loss: 0.6878 - accuracy: 0.76 - ETA: 32s - loss: 0.687 - ETA: 27s - loss: 0.6808 - accu - ETA: 25s - loss: 0.6765 - accuracy: 0.811 - ETA: 24s - loss: 0.6761 - accuracy: 0.813 - ETA: 24s - loss: 0.6754 - accuracy: - ETA: 23s - loss: 0.6734 - accu - ETA: 20s - loss: 0.6700  - ETA: 18s - loss: 0.6642 - accuracy: 0. - ETA: 18s - loss: 0.6631 - accuracy: 0.8 - ETA: 17s - loss: 0.6626 - accura - ETA: 15s - loss: 0.6596 - accuracy - ETA: 13s - loss: 0.6567 - ETA: 9s - loss: 0.6514 - accu - ETA: 8s - loss: 0.6492  - ETA: 6s - loss: 0.646 - ETA: 4s - loss: 0.643 - ETA: 2s - loss: 0.6413  - ETA: 0s - loss: 0.6392 - accuracy\n",
      "Epoch 2/5\n",
      "185/185 [==============================] - 34s 186ms/step - loss: 0.5578 - accuracy: 0.8399 27s - loss: 0.5898 - accuracy: 0.8 - ETA: 27s - loss: 0.5891 - a - ETA: 24s - loss: 0.5862 - accuracy: 0. - ETA: 23s - loss: 0.5859 - accuracy: 0.82 - ETA: 23s - loss: 0.5858 - accuracy: 0 - ETA: 22s - loss: 0.5828 - acc - ETA: 2 - ETA: 7s - loss: 0.5652  - ETA: 5s - los - ETA: 3s - loss: 0.5611 - accura - ETA: 2s - loss: 0.5603 - accuracy - ETA: 1s - loss: 0.5590 - \n",
      "Epoch 3/5\n",
      "185/185 [==============================] - 34s 186ms/step - loss: 0.5074 - accuracy: 0.8406 33s - loss: 0.5519 - accuracy: 0.8 - ETA: 32s - loss: 0.5273 - accu - ETA: 30s - loss: 0.5245 - accuracy:  - ETA: 29s - loss: 0.5373 - accuracy: 0.821 - ETA: 29s - loss: 0.5359 - accurac - ETA: 27s - loss: 0.5311 - accu - ETA: 25s - loss: 0.5326 - accuracy: 0.82 - ETA: 24s - loss: 0.53 - ETA: 21s - loss:  - ETA: 16s - loss: 0.5247 - accurac - ETA: 14s - loss: 0.5196  - ETA: 11s - loss: 0.5141 -  - - ETA: 5s - loss: 0.5082 - accu\n",
      "Epoch 4/5\n",
      "185/185 [==============================] - 34s 186ms/step - loss: 0.4784 - accuracy: 0.8399 32s - loss: 0.4660 - accuracy - ETA: 31s - loss: 0.468 - ETA: 27s - loss: 0.4920 - accura - ETA: 25s - loss: 0.4933 - accu - ETA: 23s - loss: 0.4915 - a - ETA: 20s - loss: 0.4835 - accuracy:  - ETA: 19s - loss: 0.4784 - accuracy: 0.84 - ETA: 19s - loss: 0.4783 - accurac - ETA: 17s - loss: 0.4823 - accuracy:  - ETA: 16s - loss: 0.4824 - accuracy: 0.841 - ETA: 16s - loss: 0.4832 - accuracy: 0.8 - ETA: 15s - loss: 0.4814 - ac - ETA: 13s - loss: 0.4808 - accuracy: 0.8 - ETA: 12s - loss: 0.4813 - accuracy: 0 - ETA: 11s - loss: 0.4786 - accuracy: 0 - ETA: 10s - loss: 0.4780 - accuracy: 0. - ETA: 10s - loss: 0.4778 - accur - ETA: 4s - ETA: 1s - loss: 0.4774 - accuracy - ETA: 0s - loss: 0.4793 - accura\n",
      "Epoch 5/5\n",
      "185/185 [==============================] - 34s 186ms/step - loss: 0.4604 - accuracy: 0.8405 33s  - ETA: 27s - loss: 0.4640 - accur - ETA: 24s - - ETA: 19s - loss: 0.4709 - a - ETA: 16s - loss: 0.4727 - accuracy: 0. - ETA: 15s - loss: 0.4714 - accuracy: 0.83 - ETA: 15s - loss: 0.4725 - a - ETA: 12s - loss: 0.4665 - acc - ETA: 9s - loss: 0.4623 - accuracy: - ETA: 9s - loss: 0.4604 - accura\n"
     ]
    }
   ],
   "source": [
    "model_vgg_tiktalk.compile(optimizer='Adam',loss='categorical_crossentropy',metrics=['accuracy'])\n",
    "# Adam optimizer\n",
    "# loss function will be categorical cross entropy\n",
    "# evaluation metric will be accuracy\n",
    "\n",
    "step_size_train_vgg_tiktalk=train_generator_vgg_tiktalk.n//train_generator_vgg_tiktalk.batch_size\n",
    "history_vgg_tiktalk = model_vgg_tiktalk.fit_generator(generator=train_generator_vgg_tiktalk,\n",
    "                                                       steps_per_epoch=step_size_train_vgg_tiktalk,\n",
    "                                                       epochs=5)"
   ]
  },
  {
   "cell_type": "code",
   "execution_count": 12,
   "metadata": {},
   "outputs": [
    {
     "name": "stdout",
     "output_type": "stream",
     "text": [
      "Found 120 images belonging to 2 classes.\n",
      "Epoch 1/5\n",
      "7/7 [==============================] - 3s 385ms/step - loss: 0.8542 - accuracy: 0.5096\n",
      "Epoch 2/5\n",
      "7/7 [==============================] - 1s 178ms/step - loss: 0.8457 - accuracy: 0.4904\n",
      "Epoch 3/5\n",
      "7/7 [==============================] - 1s 186ms/step - loss: 0.8175 - accuracy: 0.5357\n",
      "Epoch 4/5\n",
      "7/7 [==============================] - 1s 179ms/step - loss: 0.9075 - accuracy: 0.4615\n",
      "Epoch 5/5\n",
      "7/7 [==============================] - 1s 179ms/step - loss: 0.8122 - accuracy: 0.51920s - loss: 0.7913 - accuracy: 0.53\n"
     ]
    }
   ],
   "source": [
    "history1_vgg_tiktalk = validation(model_vgg_tiktalk,train_datagen_vgg_tiktalk)"
   ]
  },
  {
   "cell_type": "code",
   "execution_count": 13,
   "metadata": {},
   "outputs": [
    {
     "data": {
      "image/png": "[encoded data removed]",
      "text/plain": [
       "<Figure size 432x288 with 1 Axes>"
      ]
     },
     "metadata": {
      "needs_background": "light"
     },
     "output_type": "display_data"
    }
   ],
   "source": [
    "plt.plot(history_vgg_tiktalk.history['accuracy'])\n",
    "plt.plot(history1_vgg_tiktalk.history['accuracy'])\n",
    "plt.title('model accuracy VGG16 + TIMIT')\n",
    "plt.ylabel('accuracy')\n",
    "plt.xlabel('epoch')\n",
    "plt.legend(['train', 'validation'], loc='lower right')\n",
    "plt.show()"
   ]
  },
  {
   "cell_type": "code",
   "execution_count": 14,
   "metadata": {},
   "outputs": [
    {
     "data": {
      "image/png": "[encoded data removed]",
      "text/plain": [
       "<Figure size 432x288 with 1 Axes>"
      ]
     },
     "metadata": {
      "needs_background": "light"
     },
     "output_type": "display_data"
    }
   ],
   "source": [
    "plt.plot(history_vgg_tiktalk.history['loss'])\n",
    "plt.plot(history1_vgg_tiktalk.history['loss'])\n",
    "plt.title('model loss VGG16 + TIMIT')\n",
    "plt.ylabel('loss')\n",
    "plt.xlabel('epoch')\n",
    "plt.legend(['train', 'validation'], loc='upper right')\n",
    "plt.show()"
   ]
  },
  {
   "cell_type": "code",
   "execution_count": null,
   "metadata": {},
   "outputs": [],
   "source": []
  }
 ],
 "metadata": {
  "kernelspec": {
   "display_name": "Python 3",
   "language": "python",
   "name": "python3"
  },
  "language_info": {
   "codemirror_mode": {
    "name": "ipython",
    "version": 3
   },
   "file_extension": ".py",
   "mimetype": "text/x-python",
   "name": "python",
   "nbconvert_exporter": "python",
   "pygments_lexer": "ipython3",
   "version": "3.6.10"
  }
 },
 "nbformat": 4,
 "nbformat_minor": 2
}
